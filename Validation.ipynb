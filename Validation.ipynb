{
 "cells": [
  {
   "cell_type": "code",
   "execution_count": null,
   "id": "82c7571d",
   "metadata": {},
   "outputs": [],
   "source": [
    "def inputIntOrPass(value):\n",
    "    s = input(value)\n",
    "    if s.strip() == \"\":\n",
    "        return None;\n",
    "    try:\n",
    "        return int(s)\n",
    "    except ValueError:\n",
    "        print(\"Phải là số nguyên!\");\n",
    "        return inputIntOrPass(value);\n",
    "\n",
    "def inputFloatOrPass(value):\n",
    "    s = input(value)\n",
    "    if s.strip() == \"\":\n",
    "        return None;\n",
    "    try:\n",
    "        return float(s);\n",
    "    except ValueError:\n",
    "        print(\"Phải là số thực!\");\n",
    "        return inputFloatOrPass(value);"
   ]
  }
 ],
 "metadata": {
  "kernelspec": {
   "display_name": "Python 3",
   "language": "python",
   "name": "python3"
  },
  "language_info": {
   "codemirror_mode": {
    "name": "ipython",
    "version": 3
   },
   "file_extension": ".py",
   "mimetype": "text/x-python",
   "name": "python",
   "nbconvert_exporter": "python",
   "pygments_lexer": "ipython3",
   "version": "3.13.2"
  }
 },
 "nbformat": 4,
 "nbformat_minor": 5
}
