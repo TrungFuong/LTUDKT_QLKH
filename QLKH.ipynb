{
 "cells": [
  {
   "cell_type": "code",
   "execution_count": null,
   "id": "c8dc1f11",
   "metadata": {},
   "outputs": [],
   "source": [
    "#Lớp Customer gồm các thuộc tính customercustomerId, name, age, email\n",
    "class Customer:\n",
    "    def __init__(self, customercustomerId, name, age, email):\n",
    "        self._customercustomerId = customercustomerId;\n",
    "        self.__name = name;\n",
    "        self.__age = age;\n",
    "        self.__email = email;\n",
    "\n",
    "    def getCustomerId(self):\n",
    "        return self._customercustomerId;\n",
    "\n",
    "    def setCustomerId(self, customerId):\n",
    "        self._customercustomerId = customerId;\n",
    "\n",
    "    def getName(self):\n",
    "        return self.__name;\n",
    "\n",
    "    def setName(self, name):\n",
    "        self.__name = name;\n",
    "\n",
    "    def getAge(self):\n",
    "        return self.__age;\n",
    "\n",
    "    def setAge(self, age):\n",
    "        self.__age = age;\n",
    "\n",
    "    def getEmail(self):\n",
    "        return self.__email;\n",
    "\n",
    "    def setEmail(self, email):\n",
    "        self.__email = email;"
   ]
  },
  {
   "cell_type": "code",
   "execution_count": null,
   "id": "82dfd0c7",
   "metadata": {},
   "outputs": [],
   "source": [
    "#Loyal Customer kế thừa từ Customer, thêm thuộc tính loyaltyPoints và totalPurchases\n",
    "class LoyaltyCustomer(Customer):\n",
    "    def __init__(self, customerId, name, age, email, loyaltyPoints, totalPurchases):\n",
    "        super().__init__(customerId, name, age, email);\n",
    "        self.__loyaltyPoints = loyaltyPoints;\n",
    "\n",
    "    def getLoyaltyPoints(self):\n",
    "        return self.__loyaltyPoints;\n",
    "\n",
    "    def setLoyaltyPoints(self, points):\n",
    "        self.__loyaltyPoints = points;\n",
    "\n",
    "    def getTotalPurchases(self):\n",
    "        return self.__totalPurchases;\n",
    "\n",
    "    def setTotalPurchases(self, totalPurchases):\n",
    "        self.__totalPurchases = totalPurchases;"
   ]
  },
  {
   "cell_type": "code",
   "execution_count": 2,
   "id": "bcbd49c3",
   "metadata": {},
   "outputs": [],
   "source": [
    "#Casual Customer kế thừa từ Customer, thêm thuộc tính purchaseHistory và totalPurchases\n",
    "class CasualCustomer(Customer):\n",
    "    def __init__(self, customerId, name, age, email, purchaseHistory, totalPurchases):\n",
    "        super().__init__(customerId, name, age, email);\n",
    "        self.__purchaseHistory = purchaseHistory;\n",
    "        self.__totalPurchases = totalPurchases;\n",
    "\n",
    "    def getPurchaseHistory(self):\n",
    "        return self.__purchaseHistory;\n",
    "\n",
    "    def setPurchaseHistory(self, purchaseHistory):\n",
    "        self.__purchaseHistory = purchaseHistory;\n",
    "\n",
    "    def getTotalPurchases(self):\n",
    "        return self.__totalPurchases;\n",
    "\n",
    "    def setTotalPurchases(self, totalPurchases):\n",
    "        self.__totalPurchases = totalPurchases;"
   ]
  },
  {
   "cell_type": "code",
   "execution_count": 3,
   "id": "eddfb117",
   "metadata": {},
   "outputs": [],
   "source": [
    "\n",
    "#Lớp ManageCustomer quản lý danh sách khách hàng, có các phương thức thêm, sửa, xóa, tìm kiếm, hiển thị danh sách khách hàng - phân loại theo loại khách hàng (ĐỌC YÊU CẦU TRONG FILE)\n",
    "#Tính tổng doanh thu: Toàn bộ cửa hàng, từng loại khách hàng\n",
    "#Tính trung bình giá trị mua hàng: Từng khách hàng, từng loại khách hàng\n",
    "#Hiển thị 3 khách hàng mua hàng nhiều nhất (Sắp xếp theo tổng giá trị mua hàng giảm dần)\n",
    "#Thống kê khách hàng thân thiết, biết khách hàng cần điểm tích lũy > 500 và thuộc top 10 khách hàng có giá trị mua hàng trung bình\n",
    "class ManageCustomer:\n",
    "    #Viết vào đây!!!\n",
    "    pass;"
   ]
  },
  {
   "cell_type": "code",
   "execution_count": null,
   "id": "5fb20420",
   "metadata": {},
   "outputs": [],
   "source": [
    "#Menu để lựa chọn các chức năng của chương trình\n",
    "def main():\n",
    "    pass;\n",
    "#bla bla bla\n",
    "#hihi"
   ]
  }
 ],
 "metadata": {
  "kernelspec": {
   "display_name": "Python 3",
   "language": "python",
   "name": "python3"
  },
  "language_info": {
   "codemirror_mode": {
    "name": "ipython",
    "version": 3
   },
   "file_extension": ".py",
   "mimetype": "text/x-python",
   "name": "python",
   "nbconvert_exporter": "python",
   "pygments_lexer": "ipython3",
   "version": "3.13.2"
  }
 },
 "nbformat": 4,
 "nbformat_minor": 5
}
